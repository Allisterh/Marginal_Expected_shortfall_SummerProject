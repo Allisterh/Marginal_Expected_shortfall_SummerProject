{
 "cells": [
  {
   "cell_type": "markdown",
   "metadata": {},
   "source": [
    "### Load the libraries/modules"
   ]
  },
  {
   "cell_type": "code",
   "execution_count": 224,
   "metadata": {},
   "outputs": [],
   "source": [
    "import os, sys, copy, time\n",
    "from tqdm.notebook import tqdm\n",
    "import numpy as np\n",
    "import pandas as pd\n",
    "import statsmodels.api as sm\n",
    "import functions as func"
   ]
  },
  {
   "cell_type": "markdown",
   "metadata": {},
   "source": [
    "### Load the necessary data"
   ]
  },
  {
   "cell_type": "code",
   "execution_count": 225,
   "metadata": {},
   "outputs": [],
   "source": [
    "# Load all the necessary data\n",
    "nifty50_bc = pd.read_csv('./../data/nifty50_before_covid.csv')\n",
    "nifty50_ac = pd.read_csv('./../data/nifty50_after_covid.csv')\n",
    "firms_bc = pd.read_csv('./../data/map_data_before_covid.csv')\n",
    "firms_ac = pd.read_csv('./../data/map_data_after_covid.csv')\n",
    "banks_vulnerability = pd.read_csv('./../data/banks_vulnerability.csv', index_col=0)\n",
    "banks_vulnerability.columns = ['symbol', 'banker_name', 'type', 'beta', 'mes', 'vulnerable']\n",
    "banks_vulnerability['banker_name'] = banks_vulnerability['banker_name'].apply(lambda x: x.upper())\n",
    "banks_firms_connection = pd.read_csv('./../data/bank_firm_connection_filter.csv')\n",
    "banks_firms_connection.drop(['bnkhist_date'], axis = 1, inplace = True)\n"
   ]
  },
  {
   "cell_type": "markdown",
   "metadata": {},
   "source": [
    "### Date-time column to datetime object"
   ]
  },
  {
   "cell_type": "code",
   "execution_count": 226,
   "metadata": {},
   "outputs": [],
   "source": [
    "nifty50_bc['Date'] = pd.to_datetime(nifty50_bc['Date'])\n",
    "nifty50_ac['Date'] = pd.to_datetime(nifty50_ac['Date'])\n",
    "firms_bc['co_stkdate'] = pd.to_datetime(firms_bc['co_stkdate'])\n",
    "firms_bc['co_stkdate'] = pd.to_datetime(firms_bc['co_stkdate'])"
   ]
  },
  {
   "cell_type": "markdown",
   "metadata": {},
   "source": [
    "### Demo"
   ]
  },
  {
   "cell_type": "code",
   "execution_count": 227,
   "metadata": {},
   "outputs": [
    {
     "data": {
      "text/html": [
       "<div>\n",
       "<style scoped>\n",
       "    .dataframe tbody tr th:only-of-type {\n",
       "        vertical-align: middle;\n",
       "    }\n",
       "\n",
       "    .dataframe tbody tr th {\n",
       "        vertical-align: top;\n",
       "    }\n",
       "\n",
       "    .dataframe thead th {\n",
       "        text-align: right;\n",
       "    }\n",
       "</style>\n",
       "<table border=\"1\" class=\"dataframe\">\n",
       "  <thead>\n",
       "    <tr style=\"text-align: right;\">\n",
       "      <th></th>\n",
       "      <th>y</th>\n",
       "      <th>x-2</th>\n",
       "      <th>x-1</th>\n",
       "      <th>x0</th>\n",
       "      <th>x+1</th>\n",
       "      <th>x+2</th>\n",
       "    </tr>\n",
       "  </thead>\n",
       "  <tbody>\n",
       "    <tr>\n",
       "      <th>3</th>\n",
       "      <td>-0.010283</td>\n",
       "      <td>-0.021382</td>\n",
       "      <td>-0.011350</td>\n",
       "      <td>0.002517</td>\n",
       "      <td>0.000542</td>\n",
       "      <td>0.003767</td>\n",
       "    </tr>\n",
       "    <tr>\n",
       "      <th>4</th>\n",
       "      <td>-0.022078</td>\n",
       "      <td>-0.000234</td>\n",
       "      <td>-0.021382</td>\n",
       "      <td>-0.011350</td>\n",
       "      <td>0.002517</td>\n",
       "      <td>0.000542</td>\n",
       "    </tr>\n",
       "    <tr>\n",
       "      <th>5</th>\n",
       "      <td>-0.039841</td>\n",
       "      <td>-0.004933</td>\n",
       "      <td>-0.000234</td>\n",
       "      <td>-0.021382</td>\n",
       "      <td>-0.011350</td>\n",
       "      <td>0.002517</td>\n",
       "    </tr>\n",
       "    <tr>\n",
       "      <th>6</th>\n",
       "      <td>0.006916</td>\n",
       "      <td>0.007305</td>\n",
       "      <td>-0.004933</td>\n",
       "      <td>-0.000234</td>\n",
       "      <td>-0.021382</td>\n",
       "      <td>-0.011350</td>\n",
       "    </tr>\n",
       "    <tr>\n",
       "      <th>7</th>\n",
       "      <td>-0.013736</td>\n",
       "      <td>-0.002625</td>\n",
       "      <td>0.007305</td>\n",
       "      <td>-0.004933</td>\n",
       "      <td>-0.000234</td>\n",
       "      <td>-0.021382</td>\n",
       "    </tr>\n",
       "    <tr>\n",
       "      <th>...</th>\n",
       "      <td>...</td>\n",
       "      <td>...</td>\n",
       "      <td>...</td>\n",
       "      <td>...</td>\n",
       "      <td>...</td>\n",
       "      <td>...</td>\n",
       "    </tr>\n",
       "    <tr>\n",
       "      <th>116</th>\n",
       "      <td>0.015504</td>\n",
       "      <td>-0.003931</td>\n",
       "      <td>-0.000737</td>\n",
       "      <td>0.000987</td>\n",
       "      <td>0.003113</td>\n",
       "      <td>0.004657</td>\n",
       "    </tr>\n",
       "    <tr>\n",
       "      <th>117</th>\n",
       "      <td>-0.016794</td>\n",
       "      <td>-0.007205</td>\n",
       "      <td>-0.003931</td>\n",
       "      <td>-0.000737</td>\n",
       "      <td>0.000987</td>\n",
       "      <td>0.003113</td>\n",
       "    </tr>\n",
       "    <tr>\n",
       "      <th>118</th>\n",
       "      <td>-0.007764</td>\n",
       "      <td>0.009834</td>\n",
       "      <td>-0.007205</td>\n",
       "      <td>-0.003931</td>\n",
       "      <td>-0.000737</td>\n",
       "      <td>0.000987</td>\n",
       "    </tr>\n",
       "    <tr>\n",
       "      <th>119</th>\n",
       "      <td>0.004695</td>\n",
       "      <td>0.000821</td>\n",
       "      <td>0.009834</td>\n",
       "      <td>-0.007205</td>\n",
       "      <td>-0.003931</td>\n",
       "      <td>-0.000737</td>\n",
       "    </tr>\n",
       "    <tr>\n",
       "      <th>120</th>\n",
       "      <td>0.015576</td>\n",
       "      <td>-0.007131</td>\n",
       "      <td>0.000821</td>\n",
       "      <td>0.009834</td>\n",
       "      <td>-0.007205</td>\n",
       "      <td>-0.003931</td>\n",
       "    </tr>\n",
       "  </tbody>\n",
       "</table>\n",
       "<p>118 rows × 6 columns</p>\n",
       "</div>"
      ],
      "text/plain": [
       "            y       x-2       x-1        x0       x+1       x+2\n",
       "3   -0.010283 -0.021382 -0.011350  0.002517  0.000542  0.003767\n",
       "4   -0.022078 -0.000234 -0.021382 -0.011350  0.002517  0.000542\n",
       "5   -0.039841 -0.004933 -0.000234 -0.021382 -0.011350  0.002517\n",
       "6    0.006916  0.007305 -0.004933 -0.000234 -0.021382 -0.011350\n",
       "7   -0.013736 -0.002625  0.007305 -0.004933 -0.000234 -0.021382\n",
       "..        ...       ...       ...       ...       ...       ...\n",
       "116  0.015504 -0.003931 -0.000737  0.000987  0.003113  0.004657\n",
       "117 -0.016794 -0.007205 -0.003931 -0.000737  0.000987  0.003113\n",
       "118 -0.007764  0.009834 -0.007205 -0.003931 -0.000737  0.000987\n",
       "119  0.004695  0.000821  0.009834 -0.007205 -0.003931 -0.000737\n",
       "120  0.015576 -0.007131  0.000821  0.009834 -0.007205 -0.003931\n",
       "\n",
       "[118 rows x 6 columns]"
      ]
     },
     "execution_count": 227,
     "metadata": {},
     "output_type": "execute_result"
    }
   ],
   "source": [
    "# Demo for company: 20 MICRONS LTD.\n",
    "firm_cp = firms_bc.loc[firms_bc['company_name'] == '20 MICRONS LTD.']['bse_closing_price']\n",
    "firm_cp.reset_index(drop = True, inplace = True)\n",
    "reg_data = func.making_data_reg(firm_cp, nifty50_bc['Close'])\n",
    "reg_data.dropna(inplace=True)\n",
    "reg_data"
   ]
  },
  {
   "cell_type": "code",
   "execution_count": 228,
   "metadata": {},
   "outputs": [
    {
     "data": {
      "text/plain": [
       "(0, 0.00012811874008187898, 0.19431897154488348)"
      ]
     },
     "execution_count": 228,
     "metadata": {},
     "output_type": "execute_result"
    }
   ],
   "source": [
    "func.crash_risk(reg_data.drop(['y'], axis=1).values, reg_data['y'].values)"
   ]
  },
  {
   "cell_type": "markdown",
   "metadata": {},
   "source": [
    "### Calculating crash risk"
   ]
  },
  {
   "cell_type": "markdown",
   "metadata": {},
   "source": [
    "Running over all firms:"
   ]
  },
  {
   "cell_type": "markdown",
   "metadata": {},
   "source": [
    "Limitation: All firms do not have much data.\n",
    "- Run for those firms which have exact 120 days data available.\n",
    "- NSE/BSE (Which have more data)"
   ]
  },
  {
   "cell_type": "code",
   "execution_count": 229,
   "metadata": {},
   "outputs": [
    {
     "name": "stdout",
     "output_type": "stream",
     "text": [
      "Shape of the mapping data is (Before corona): (241296, 6)\n",
      "Shape of the mapping data is (After corona): (240115, 6)\n"
     ]
    }
   ],
   "source": [
    "# Printing the shape of the data\n",
    "print(f'Shape of the mapping data is (Before corona): {firms_bc.shape}')\n",
    "print(f'Shape of the mapping data is (After corona): {firms_ac.shape}')"
   ]
  },
  {
   "cell_type": "code",
   "execution_count": 230,
   "metadata": {},
   "outputs": [],
   "source": [
    "# Filtered out by exchange center which have atleast 100 days data\n",
    "df_nse = firms_bc.dropna(thresh=2, axis=0).groupby(by = ['company_name'])['nse_closing_price'].count().reset_index()\n",
    "df_nse = df_nse[df_nse.nse_closing_price > 100]\n",
    "df_bse = firms_bc.dropna(thresh=2, axis=0).groupby(by = ['company_name'])['bse_closing_price'].count().reset_index()\n",
    "df_bse = df_bse[df_bse.bse_closing_price > 100]"
   ]
  },
  {
   "cell_type": "code",
   "execution_count": 231,
   "metadata": {},
   "outputs": [],
   "source": [
    "# Separate out by exchange center\n",
    "company_name_nse = df_nse['company_name'].values\n",
    "company_name_bse = []\n",
    "for company in df_bse['company_name'].values:\n",
    "    if company not in company_name_nse:\n",
    "        company_name_bse.append(company)"
   ]
  },
  {
   "cell_type": "code",
   "execution_count": 232,
   "metadata": {},
   "outputs": [
    {
     "data": {
      "application/vnd.jupyter.widget-view+json": {
       "model_id": "345092bb1bb94c38a4d1deba70421b39",
       "version_major": 2,
       "version_minor": 0
      },
      "text/plain": [
       "  0%|          | 0/1082 [00:00<?, ?it/s]"
      ]
     },
     "metadata": {},
     "output_type": "display_data"
    },
    {
     "data": {
      "application/vnd.jupyter.widget-view+json": {
       "model_id": "4ff02608c82241e6a08766e22d83c96e",
       "version_major": 2,
       "version_minor": 0
      },
      "text/plain": [
       "  0%|          | 0/526 [00:00<?, ?it/s]"
      ]
     },
     "metadata": {},
     "output_type": "display_data"
    },
    {
     "name": "stderr",
     "output_type": "stream",
     "text": [
      "d:\\Term Project\\notebook\\functions.py:59: RuntimeWarning: invalid value encountered in double_scalars\n",
      "  return -numerator/denominator\n",
      "d:\\Term Project\\notebook\\functions.py:76: RuntimeWarning: invalid value encountered in double_scalars\n",
      "  return np.log(numerator/denominator)\n"
     ]
    }
   ],
   "source": [
    "result_crash_risk_bc = []\n",
    "firms_singular_bc = []\n",
    "# NSE: Before COVID\n",
    "for firm in tqdm(company_name_nse):\n",
    "    try:\n",
    "        firm_cp = firms_bc.loc[firms_bc['company_name'] == firm]['nse_closing_price']\n",
    "        firm_cp.reset_index(drop = True, inplace = True)\n",
    "        reg_data = func.making_data_reg(firm_cp, nifty50_bc['Close'])\n",
    "        reg_data.dropna(inplace=True)\n",
    "        result = func.crash_risk(reg_data.drop(['y'], axis=1).values, reg_data['y'].values)\n",
    "        result_crash_risk_bc.append(('NSE', firm, 0, result[0], result[1], result[2]))\n",
    "    except:\n",
    "        firms_singular_bc.append(firm)\n",
    "# BSE: Before COVID\n",
    "for firm in tqdm(company_name_bse):\n",
    "    try:\n",
    "        firm_cp = firms_bc.loc[firms_bc['company_name'] == firm]['bse_closing_price']\n",
    "        firm_cp.reset_index(drop = True, inplace = True)\n",
    "        reg_data = func.making_data_reg(firm_cp, nifty50_bc['Close'])\n",
    "        reg_data.dropna(inplace=True)\n",
    "        result = func.crash_risk(reg_data.drop(['y'], axis=1).values, reg_data['y'].values)\n",
    "        result_crash_risk_bc.append(('BSE', firm, 0, result[0], result[1], result[2]))\n",
    "    except:\n",
    "        firms_singular_bc.append(firm)\n",
    "result_crash_risk_bc = pd.DataFrame(result_crash_risk_bc, columns=['exchange','company_name','time','binary','nskew','duvol'])"
   ]
  },
  {
   "cell_type": "code",
   "execution_count": 233,
   "metadata": {},
   "outputs": [
    {
     "data": {
      "application/vnd.jupyter.widget-view+json": {
       "model_id": "3d6d1ab3685d4c778b98c0bd3ccb0be0",
       "version_major": 2,
       "version_minor": 0
      },
      "text/plain": [
       "  0%|          | 0/1082 [00:00<?, ?it/s]"
      ]
     },
     "metadata": {},
     "output_type": "display_data"
    },
    {
     "data": {
      "application/vnd.jupyter.widget-view+json": {
       "model_id": "55e1f8a892ab45e19257bdc2d651151c",
       "version_major": 2,
       "version_minor": 0
      },
      "text/plain": [
       "  0%|          | 0/526 [00:00<?, ?it/s]"
      ]
     },
     "metadata": {},
     "output_type": "display_data"
    }
   ],
   "source": [
    "result_crash_risk_ac = []\n",
    "firms_singular_ac = []\n",
    "# NSE: During COVID\n",
    "for firm in tqdm(company_name_nse):\n",
    "    try:\n",
    "        firm_cp = firms_ac.loc[firms_ac['company_name'] == firm]['nse_closing_price']\n",
    "        firm_cp.reset_index(drop = True, inplace = True)\n",
    "        reg_data = func.making_data_reg(firm_cp, nifty50_bc['Close'])\n",
    "        reg_data.dropna(inplace=True)\n",
    "        result = func.crash_risk(reg_data.drop(['y'], axis=1).values, reg_data['y'].values)\n",
    "        result_crash_risk_ac.append(('NSE', firm, 1, result[0], result[1], result[2]))\n",
    "    except:\n",
    "        firms_singular_ac.append(firm)\n",
    "# BSE: During COVID\n",
    "for firm in tqdm(company_name_bse):\n",
    "    try:\n",
    "        firm_cp = firms_ac.loc[firms_ac['company_name'] == firm]['bse_closing_price']\n",
    "        firm_cp.reset_index(drop = True, inplace = True)\n",
    "        reg_data = func.making_data_reg(firm_cp, nifty50_bc['Close'])\n",
    "        reg_data.dropna(inplace=True)\n",
    "        result = func.crash_risk(reg_data.drop(['y'], axis=1).values, reg_data['y'].values)\n",
    "        result_crash_risk_ac.append(('BSE', firm, 1, result[0], result[1], result[2]))\n",
    "    except:\n",
    "        firms_singular_ac.append(firm)\n",
    "result_crash_risk_ac = pd.DataFrame(result_crash_risk_ac, columns=['exchange','company_name','time','binary','nskew','duvol'])"
   ]
  },
  {
   "cell_type": "code",
   "execution_count": 234,
   "metadata": {},
   "outputs": [],
   "source": [
    "final_result = pd.concat([result_crash_risk_bc, result_crash_risk_ac], axis=0)\n",
    "final_result.sort_values(by = ['company_name'], inplace = True)\n",
    "final_result = final_result[~final_result['company_name'].isin(firms_singular_bc)]\n",
    "final_result = final_result[~final_result['company_name'].isin(firms_singular_ac)]"
   ]
  },
  {
   "cell_type": "code",
   "execution_count": 235,
   "metadata": {},
   "outputs": [
    {
     "data": {
      "text/html": [
       "<div>\n",
       "<style scoped>\n",
       "    .dataframe tbody tr th:only-of-type {\n",
       "        vertical-align: middle;\n",
       "    }\n",
       "\n",
       "    .dataframe tbody tr th {\n",
       "        vertical-align: top;\n",
       "    }\n",
       "\n",
       "    .dataframe thead th {\n",
       "        text-align: right;\n",
       "    }\n",
       "</style>\n",
       "<table border=\"1\" class=\"dataframe\">\n",
       "  <thead>\n",
       "    <tr style=\"text-align: right;\">\n",
       "      <th></th>\n",
       "      <th>symbol</th>\n",
       "      <th>banker_name</th>\n",
       "      <th>co_code</th>\n",
       "      <th>company_name</th>\n",
       "      <th>exchange</th>\n",
       "      <th>beta</th>\n",
       "      <th>mes</th>\n",
       "      <th>vulnerable</th>\n",
       "      <th>type</th>\n",
       "      <th>time</th>\n",
       "      <th>binary</th>\n",
       "      <th>nskew</th>\n",
       "      <th>duvol</th>\n",
       "    </tr>\n",
       "  </thead>\n",
       "  <tbody>\n",
       "    <tr>\n",
       "      <th>0</th>\n",
       "      <td>SBIN.NS</td>\n",
       "      <td>STATE BANK OF INDIA</td>\n",
       "      <td>11</td>\n",
       "      <td>20 MICRONS LTD.</td>\n",
       "      <td>NSE</td>\n",
       "      <td>0.247401</td>\n",
       "      <td>0.001617</td>\n",
       "      <td>True</td>\n",
       "      <td>Public</td>\n",
       "      <td>0</td>\n",
       "      <td>0</td>\n",
       "      <td>-0.031853</td>\n",
       "      <td>-0.306464</td>\n",
       "    </tr>\n",
       "    <tr>\n",
       "      <th>1</th>\n",
       "      <td>SBIN.NS</td>\n",
       "      <td>STATE BANK OF INDIA</td>\n",
       "      <td>11</td>\n",
       "      <td>20 MICRONS LTD.</td>\n",
       "      <td>NSE</td>\n",
       "      <td>0.247401</td>\n",
       "      <td>0.001617</td>\n",
       "      <td>True</td>\n",
       "      <td>Public</td>\n",
       "      <td>1</td>\n",
       "      <td>1</td>\n",
       "      <td>0.009624</td>\n",
       "      <td>-0.154393</td>\n",
       "    </tr>\n",
       "    <tr>\n",
       "      <th>2</th>\n",
       "      <td>SBIN.NS</td>\n",
       "      <td>STATE BANK OF INDIA</td>\n",
       "      <td>389178</td>\n",
       "      <td>A 2 Z INFRA ENGG. LTD.</td>\n",
       "      <td>NSE</td>\n",
       "      <td>0.247401</td>\n",
       "      <td>0.001617</td>\n",
       "      <td>True</td>\n",
       "      <td>Public</td>\n",
       "      <td>1</td>\n",
       "      <td>1</td>\n",
       "      <td>0.001683</td>\n",
       "      <td>0.094062</td>\n",
       "    </tr>\n",
       "    <tr>\n",
       "      <th>3</th>\n",
       "      <td>SBIN.NS</td>\n",
       "      <td>STATE BANK OF INDIA</td>\n",
       "      <td>389178</td>\n",
       "      <td>A 2 Z INFRA ENGG. LTD.</td>\n",
       "      <td>NSE</td>\n",
       "      <td>0.247401</td>\n",
       "      <td>0.001617</td>\n",
       "      <td>True</td>\n",
       "      <td>Public</td>\n",
       "      <td>0</td>\n",
       "      <td>0</td>\n",
       "      <td>-0.079382</td>\n",
       "      <td>0.048425</td>\n",
       "    </tr>\n",
       "    <tr>\n",
       "      <th>4</th>\n",
       "      <td>SBIN.NS</td>\n",
       "      <td>STATE BANK OF INDIA</td>\n",
       "      <td>289</td>\n",
       "      <td>A B C INDIA LTD.</td>\n",
       "      <td>BSE</td>\n",
       "      <td>0.247401</td>\n",
       "      <td>0.001617</td>\n",
       "      <td>True</td>\n",
       "      <td>Public</td>\n",
       "      <td>0</td>\n",
       "      <td>0</td>\n",
       "      <td>0.009701</td>\n",
       "      <td>-0.045269</td>\n",
       "    </tr>\n",
       "    <tr>\n",
       "      <th>...</th>\n",
       "      <td>...</td>\n",
       "      <td>...</td>\n",
       "      <td>...</td>\n",
       "      <td>...</td>\n",
       "      <td>...</td>\n",
       "      <td>...</td>\n",
       "      <td>...</td>\n",
       "      <td>...</td>\n",
       "      <td>...</td>\n",
       "      <td>...</td>\n",
       "      <td>...</td>\n",
       "      <td>...</td>\n",
       "      <td>...</td>\n",
       "    </tr>\n",
       "    <tr>\n",
       "      <th>3209</th>\n",
       "      <td>KTKBANK.NS</td>\n",
       "      <td>KARNATAKA BANK LTD.</td>\n",
       "      <td>165297</td>\n",
       "      <td>ORTEL COMMUNICATIONS LTD.</td>\n",
       "      <td>NSE</td>\n",
       "      <td>0.098743</td>\n",
       "      <td>0.001626</td>\n",
       "      <td>True</td>\n",
       "      <td>Private</td>\n",
       "      <td>0</td>\n",
       "      <td>0</td>\n",
       "      <td>0.018751</td>\n",
       "      <td>0.538088</td>\n",
       "    </tr>\n",
       "    <tr>\n",
       "      <th>3210</th>\n",
       "      <td>KTKBANK.NS</td>\n",
       "      <td>KARNATAKA BANK LTD.</td>\n",
       "      <td>165319</td>\n",
       "      <td>ORTIN LABORATORIES LTD.</td>\n",
       "      <td>NSE</td>\n",
       "      <td>0.098743</td>\n",
       "      <td>0.001626</td>\n",
       "      <td>True</td>\n",
       "      <td>Private</td>\n",
       "      <td>0</td>\n",
       "      <td>0</td>\n",
       "      <td>-0.092344</td>\n",
       "      <td>-0.332753</td>\n",
       "    </tr>\n",
       "    <tr>\n",
       "      <th>3211</th>\n",
       "      <td>KTKBANK.NS</td>\n",
       "      <td>KARNATAKA BANK LTD.</td>\n",
       "      <td>165319</td>\n",
       "      <td>ORTIN LABORATORIES LTD.</td>\n",
       "      <td>NSE</td>\n",
       "      <td>0.098743</td>\n",
       "      <td>0.001626</td>\n",
       "      <td>True</td>\n",
       "      <td>Private</td>\n",
       "      <td>1</td>\n",
       "      <td>0</td>\n",
       "      <td>-0.106369</td>\n",
       "      <td>-0.864495</td>\n",
       "    </tr>\n",
       "    <tr>\n",
       "      <th>3212</th>\n",
       "      <td>CUB.NS</td>\n",
       "      <td>CITY UNION BANK LTD.</td>\n",
       "      <td>176994</td>\n",
       "      <td>POLYSPIN EXPORTS LTD.</td>\n",
       "      <td>BSE</td>\n",
       "      <td>0.084847</td>\n",
       "      <td>-0.002707</td>\n",
       "      <td>True</td>\n",
       "      <td>Private</td>\n",
       "      <td>1</td>\n",
       "      <td>0</td>\n",
       "      <td>-0.034252</td>\n",
       "      <td>-0.305465</td>\n",
       "    </tr>\n",
       "    <tr>\n",
       "      <th>3213</th>\n",
       "      <td>CUB.NS</td>\n",
       "      <td>CITY UNION BANK LTD.</td>\n",
       "      <td>176994</td>\n",
       "      <td>POLYSPIN EXPORTS LTD.</td>\n",
       "      <td>BSE</td>\n",
       "      <td>0.084847</td>\n",
       "      <td>-0.002707</td>\n",
       "      <td>True</td>\n",
       "      <td>Private</td>\n",
       "      <td>0</td>\n",
       "      <td>0</td>\n",
       "      <td>0.053546</td>\n",
       "      <td>0.614217</td>\n",
       "    </tr>\n",
       "  </tbody>\n",
       "</table>\n",
       "<p>3214 rows × 13 columns</p>\n",
       "</div>"
      ],
      "text/plain": [
       "          symbol           banker_name  co_code               company_name  \\\n",
       "0        SBIN.NS   STATE BANK OF INDIA       11            20 MICRONS LTD.   \n",
       "1        SBIN.NS   STATE BANK OF INDIA       11            20 MICRONS LTD.   \n",
       "2        SBIN.NS   STATE BANK OF INDIA   389178     A 2 Z INFRA ENGG. LTD.   \n",
       "3        SBIN.NS   STATE BANK OF INDIA   389178     A 2 Z INFRA ENGG. LTD.   \n",
       "4        SBIN.NS   STATE BANK OF INDIA      289           A B C INDIA LTD.   \n",
       "...          ...                   ...      ...                        ...   \n",
       "3209  KTKBANK.NS   KARNATAKA BANK LTD.   165297  ORTEL COMMUNICATIONS LTD.   \n",
       "3210  KTKBANK.NS   KARNATAKA BANK LTD.   165319    ORTIN LABORATORIES LTD.   \n",
       "3211  KTKBANK.NS   KARNATAKA BANK LTD.   165319    ORTIN LABORATORIES LTD.   \n",
       "3212      CUB.NS  CITY UNION BANK LTD.   176994      POLYSPIN EXPORTS LTD.   \n",
       "3213      CUB.NS  CITY UNION BANK LTD.   176994      POLYSPIN EXPORTS LTD.   \n",
       "\n",
       "     exchange      beta       mes  vulnerable     type  time  binary  \\\n",
       "0         NSE  0.247401  0.001617        True   Public     0       0   \n",
       "1         NSE  0.247401  0.001617        True   Public     1       1   \n",
       "2         NSE  0.247401  0.001617        True   Public     1       1   \n",
       "3         NSE  0.247401  0.001617        True   Public     0       0   \n",
       "4         BSE  0.247401  0.001617        True   Public     0       0   \n",
       "...       ...       ...       ...         ...      ...   ...     ...   \n",
       "3209      NSE  0.098743  0.001626        True  Private     0       0   \n",
       "3210      NSE  0.098743  0.001626        True  Private     0       0   \n",
       "3211      NSE  0.098743  0.001626        True  Private     1       0   \n",
       "3212      BSE  0.084847 -0.002707        True  Private     1       0   \n",
       "3213      BSE  0.084847 -0.002707        True  Private     0       0   \n",
       "\n",
       "         nskew     duvol  \n",
       "0    -0.031853 -0.306464  \n",
       "1     0.009624 -0.154393  \n",
       "2     0.001683  0.094062  \n",
       "3    -0.079382  0.048425  \n",
       "4     0.009701 -0.045269  \n",
       "...        ...       ...  \n",
       "3209  0.018751  0.538088  \n",
       "3210 -0.092344 -0.332753  \n",
       "3211 -0.106369 -0.864495  \n",
       "3212 -0.034252 -0.305465  \n",
       "3213  0.053546  0.614217  \n",
       "\n",
       "[3214 rows x 13 columns]"
      ]
     },
     "execution_count": 235,
     "metadata": {},
     "output_type": "execute_result"
    }
   ],
   "source": [
    "final_result = pd.merge(final_result, banks_firms_connection, on = 'company_name')\n",
    "final_result = pd.merge(final_result, banks_vulnerability, on = 'banker_name')\n",
    "final_result = final_result.loc[:,['symbol','banker_name','co_code','company_name','exchange','beta','mes','vulnerable','type','time','binary','nskew','duvol']]\n",
    "final_result"
   ]
  },
  {
   "cell_type": "code",
   "execution_count": 236,
   "metadata": {},
   "outputs": [],
   "source": [
    "final_result.to_csv('./../data/final_result.csv', index = False)"
   ]
  },
  {
   "cell_type": "code",
   "execution_count": null,
   "metadata": {},
   "outputs": [],
   "source": []
  }
 ],
 "metadata": {
  "kernelspec": {
   "display_name": "Python 3.9.12 ('base')",
   "language": "python",
   "name": "python3"
  },
  "language_info": {
   "codemirror_mode": {
    "name": "ipython",
    "version": 3
   },
   "file_extension": ".py",
   "mimetype": "text/x-python",
   "name": "python",
   "nbconvert_exporter": "python",
   "pygments_lexer": "ipython3",
   "version": "3.9.12"
  },
  "orig_nbformat": 4,
  "vscode": {
   "interpreter": {
    "hash": "74ea417110b7752a71c21f464862fd53e3d806acf985c9ee176f54d26d8a4a39"
   }
  }
 },
 "nbformat": 4,
 "nbformat_minor": 2
}
